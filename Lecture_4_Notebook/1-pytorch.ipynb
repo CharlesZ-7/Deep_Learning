{
 "cells": [
  {
   "cell_type": "markdown",
   "metadata": {},
   "source": [
    "## Programming model"
   ]
  },
  {
   "cell_type": "markdown",
   "metadata": {},
   "source": [
    "#### Babylonian method square root\n",
    "Compute $\\sqrt{x}$.\n",
    "##### How?\n",
    "Continue $ s \\leftarrow (s + x /s) / 2 $ till $ s \\rightarrow \\sqrt{x}$."
   ]
  },
  {
   "cell_type": "code",
   "execution_count": 1,
   "metadata": {},
   "outputs": [
    {
     "name": "stdout",
     "output_type": "stream",
     "text": [
      "Sqrt from Babylonian Approach: 1.414213562373095\n",
      "Sqrt from NumPy Approach is: 1.4142135623730951\n"
     ]
    }
   ],
   "source": [
    "### Python routine for implementation of Babylonian apporach\n",
    "\n",
    "import numpy as np\n",
    "\n",
    "def babylon(x, N):\n",
    "    s = (1.0 + x)/2.0\n",
    "    for i in range(1, N):\n",
    "        s = (s + x/s) / 2.0\n",
    "    return s\n",
    "\n",
    "x = 2.0\n",
    "print(f\"Sqrt from Babylonian Approach: {babylon(x, 10)}\")\n",
    "print(f\"Sqrt from NumPy Approach is: {np.sqrt(x)}\")"
   ]
  },
  {
   "cell_type": "code",
   "execution_count": 2,
   "metadata": {},
   "outputs": [
    {
     "name": "stdout",
     "output_type": "stream",
     "text": [
      "value of sqrt(x) is : 1.414213562373095\n",
      "Derivative of sqrt(x) is: 0.35355339059327373\n",
      "Analytical derivative of sqrt(x) is: 0.35355339059327373\n"
     ]
    }
   ],
   "source": [
    "### Python routine for differentiations of Babylonian routine\n",
    "\n",
    "def diff_babylonian(x, N):\n",
    "    s = (1.0 + x)/2.0\n",
    "    s_prime = 1.0/ 2.0\n",
    "    for i in range(1, N):\n",
    "        s = (s + x/s) / 2.0\n",
    "        s_prime = (1/2.0)*(s_prime + (s - x * s_prime)/(s**2))\n",
    "    return s, s_prime\n",
    "\n",
    "s, s_prime = diff_babylonian(2, 10)\n",
    "\n",
    "print(f\"value of sqrt(x) is : {s}\")\n",
    "print(f\"Derivative of sqrt(x) is: {s_prime}\")\n",
    "print(f\"Analytical derivative of sqrt(x) is: {0.5 *1/np.sqrt(2)}\")\n"
   ]
  },
  {
   "cell_type": "code",
   "execution_count": 9,
   "metadata": {},
   "outputs": [
    {
     "name": "stdout",
     "output_type": "stream",
     "text": [
      "Requirement already satisfied: sympy in /Users/raj/opt/anaconda3/lib/python3.8/site-packages (1.8)\n",
      "Requirement already satisfied: mpmath>=0.19 in /Users/raj/opt/anaconda3/lib/python3.8/site-packages (from sympy) (1.2.1)\n",
      "\u001b[33mWARNING: You are using pip version 22.0.4; however, version 22.3.1 is available.\n",
      "You should consider upgrading via the '/Users/raj/opt/anaconda3/bin/python -m pip install --upgrade pip' command.\u001b[0m\u001b[33m\n",
      "\u001b[0m"
     ]
    }
   ],
   "source": [
    "!pip install sympy"
   ]
  },
  {
   "cell_type": "code",
   "execution_count": 4,
   "metadata": {},
   "outputs": [
    {
     "name": "stdout",
     "output_type": "stream",
     "text": [
      "Symbolic for Function Evaluation\n",
      "0.5*x + 0.5\n",
      "0.5*x + 0.5\n",
      "0.25*x + 1.0*x/(x + 1) + 0.25\n",
      "(0.015625*x**4 + 0.4375*x**3 + 1.09375*x**2 + 0.4375*x + 0.015625)/(0.125*x**3 + 0.875*x**2 + 0.875*x + 0.125)\n",
      "(6.103515625e-5*x**8 + 0.00732421875*x**7 + 0.111083984375*x**6 + 0.48876953125*x**5 + 0.7855224609375*x**4 + 0.48876953125*x**3 + 0.111083984375*x**2 + 0.00732421875*x + 6.103515625e-5)/(0.0009765625*x**7 + 0.0341796875*x**6 + 0.2666015625*x**5 + 0.6982421875*x**4 + 0.6982421875*x**3 + 0.2666015625*x**2 + 0.0341796875*x + 0.0009765625)\n",
      "***********+++++++***********\n",
      "***********+++++++***********\n",
      "***********+++++++***********\n",
      "Symbolic for Derivative Evaluation\n",
      "(3.72529029846191e-9*x**20 + 3.87430191040039e-7*x**19 + 2.16737389564514e-5*x**18 + 0.000664353370666504*x**17 + 0.0112408436834812*x**16 + 0.115458369255066*x**15 + 0.761909335851669*x**14 + 3.33969330787659*x**13 + 9.95655024796724*x**12 + 20.4859389662743*x**11 + 29.3279034942389*x**10 + 29.3301267623901*x**9 + 20.4844993725419*x**8 + 9.95705211162567*x**7 + 3.33972844481468*x**6 + 0.761770963668823*x**5 + 0.11552881076932*x**4 + 0.0112256109714508*x**3 + 0.000664331018924713*x**2 + 2.22921371459961e-5*x + 3.16649675369263e-7)/(5.96046447753906e-8*x**20 + 6.19888305664063e-6*x**19 + 0.000261664390563965*x**18 + 0.00583887100219727*x**17 + 0.0763652920722961*x**16 + 0.625497817993164*x**15 + 3.35175752639771*x**14 + 12.0893878936768*x**13 + 29.8995410203934*x**12 + 51.2792692184448*x**11 + 61.3441488742828*x**10 + 51.2792692184448*x**9 + 29.8995410203934*x**8 + 12.0893878936768*x**7 + 3.35175752639771*x**6 + 0.625497817993164*x**5 + 0.0763652920722961*x**4 + 0.00583887100219727*x**3 + 0.000261664390563965*x**2 + 6.19888305664063e-6*x + 5.96046447753906e-8)\n",
      "(3.72529029846191e-9*x**20 + 3.87430191040039e-7*x**19 + 2.16737389564514e-5*x**18 + 0.000664353370666504*x**17 + 0.0112408436834812*x**16 + 0.115458369255066*x**15 + 0.761909335851669*x**14 + 3.33969330787659*x**13 + 9.95655024796724*x**12 + 20.4859389662743*x**11 + 29.3279034942389*x**10 + 29.3301267623901*x**9 + 20.4844993725419*x**8 + 9.95705211162567*x**7 + 3.33972844481468*x**6 + 0.761770963668823*x**5 + 0.11552881076932*x**4 + 0.0112256109714508*x**3 + 0.000664331018924713*x**2 + 2.22921371459961e-5*x + 3.16649675369263e-7)/(5.96046447753906e-8*x**20 + 6.19888305664063e-6*x**19 + 0.000261664390563965*x**18 + 0.00583887100219727*x**17 + 0.0763652920722961*x**16 + 0.625497817993164*x**15 + 3.35175752639771*x**14 + 12.0893878936768*x**13 + 29.8995410203934*x**12 + 51.2792692184448*x**11 + 61.3441488742828*x**10 + 51.2792692184448*x**9 + 29.8995410203934*x**8 + 12.0893878936768*x**7 + 3.35175752639771*x**6 + 0.625497817993164*x**5 + 0.0763652920722961*x**4 + 0.00583887100219727*x**3 + 0.000261664390563965*x**2 + 6.19888305664063e-6*x + 5.96046447753906e-8)\n",
      "(3.72529029846191e-9*x**20 + 3.87430191040039e-7*x**19 + 2.16737389564514e-5*x**18 + 0.000664353370666504*x**17 + 0.0112408436834812*x**16 + 0.115458369255066*x**15 + 0.761909335851669*x**14 + 3.33969330787659*x**13 + 9.95655024796724*x**12 + 20.4859389662743*x**11 + 29.3279034942389*x**10 + 29.3301267623901*x**9 + 20.4844993725419*x**8 + 9.95705211162567*x**7 + 3.33972844481468*x**6 + 0.761770963668823*x**5 + 0.11552881076932*x**4 + 0.0112256109714508*x**3 + 0.000664331018924713*x**2 + 2.22921371459961e-5*x + 3.16649675369263e-7)/(5.96046447753906e-8*x**20 + 6.19888305664063e-6*x**19 + 0.000261664390563965*x**18 + 0.00583887100219727*x**17 + 0.0763652920722961*x**16 + 0.625497817993164*x**15 + 3.35175752639771*x**14 + 12.0893878936768*x**13 + 29.8995410203934*x**12 + 51.2792692184448*x**11 + 61.3441488742828*x**10 + 51.2792692184448*x**9 + 29.8995410203934*x**8 + 12.0893878936768*x**7 + 3.35175752639771*x**6 + 0.625497817993164*x**5 + 0.0763652920722961*x**4 + 0.00583887100219727*x**3 + 0.000261664390563965*x**2 + 6.19888305664063e-6*x + 5.96046447753906e-8)\n",
      "(3.72529029846191e-9*x**20 + 3.87430191040039e-7*x**19 + 2.16737389564514e-5*x**18 + 0.000664353370666504*x**17 + 0.0112408436834812*x**16 + 0.115458369255066*x**15 + 0.761909335851669*x**14 + 3.33969330787659*x**13 + 9.95655024796724*x**12 + 20.4859389662743*x**11 + 29.3279034942389*x**10 + 29.3301267623901*x**9 + 20.4844993725419*x**8 + 9.95705211162567*x**7 + 3.33972844481468*x**6 + 0.761770963668823*x**5 + 0.11552881076932*x**4 + 0.0112256109714508*x**3 + 0.000664331018924713*x**2 + 2.22921371459961e-5*x + 3.16649675369263e-7)/(5.96046447753906e-8*x**20 + 6.19888305664063e-6*x**19 + 0.000261664390563965*x**18 + 0.00583887100219727*x**17 + 0.0763652920722961*x**16 + 0.625497817993164*x**15 + 3.35175752639771*x**14 + 12.0893878936768*x**13 + 29.8995410203934*x**12 + 51.2792692184448*x**11 + 61.3441488742828*x**10 + 51.2792692184448*x**9 + 29.8995410203934*x**8 + 12.0893878936768*x**7 + 3.35175752639771*x**6 + 0.625497817993164*x**5 + 0.0763652920722961*x**4 + 0.00583887100219727*x**3 + 0.000261664390563965*x**2 + 6.19888305664063e-6*x + 5.96046447753906e-8)\n",
      "(3.72529029846191e-9*x**20 + 3.87430191040039e-7*x**19 + 2.16737389564514e-5*x**18 + 0.000664353370666504*x**17 + 0.0112408436834812*x**16 + 0.115458369255066*x**15 + 0.761909335851669*x**14 + 3.33969330787659*x**13 + 9.95655024796724*x**12 + 20.4859389662743*x**11 + 29.3279034942389*x**10 + 29.3301267623901*x**9 + 20.4844993725419*x**8 + 9.95705211162567*x**7 + 3.33972844481468*x**6 + 0.761770963668823*x**5 + 0.11552881076932*x**4 + 0.0112256109714508*x**3 + 0.000664331018924713*x**2 + 2.22921371459961e-5*x + 3.16649675369263e-7)/(5.96046447753906e-8*x**20 + 6.19888305664063e-6*x**19 + 0.000261664390563965*x**18 + 0.00583887100219727*x**17 + 0.0763652920722961*x**16 + 0.625497817993164*x**15 + 3.35175752639771*x**14 + 12.0893878936768*x**13 + 29.8995410203934*x**12 + 51.2792692184448*x**11 + 61.3441488742828*x**10 + 51.2792692184448*x**9 + 29.8995410203934*x**8 + 12.0893878936768*x**7 + 3.35175752639771*x**6 + 0.625497817993164*x**5 + 0.0763652920722961*x**4 + 0.00583887100219727*x**3 + 0.000261664390563965*x**2 + 6.19888305664063e-6*x + 5.96046447753906e-8)\n"
     ]
    }
   ],
   "source": [
    "import sympy as sp\n",
    "x = sp.symbols(\"x\")\n",
    "\n",
    "# Symbolic for Function Evaluation\n",
    "print(\"Symbolic for Function Evaluation\")\n",
    "for i in range(0, 5):\n",
    "    print(sp.simplify(babylon(x, i)))\n",
    "\n",
    "print(\"***********+++++++***********\")\n",
    "print(\"***********+++++++***********\")\n",
    "print(\"***********+++++++***********\")\n",
    "print(\"Symbolic for Derivative Evaluation\")\n",
    "for j in range(0, 5):\n",
    "    print(sp.simplify(sp.simplify(sp.diff(babylon(x, i)))))"
   ]
  },
  {
   "cell_type": "markdown",
   "metadata": {},
   "source": [
    "## Dual Numbers"
   ]
  },
  {
   "cell_type": "markdown",
   "metadata": {},
   "source": [
    "### Addition rule\n",
    "$$\n",
    "h(x) = f(x) + g(x)\n",
    "$$\n",
    "$$\n",
    "h'(x) = f'(x) + g'(x)\n",
    "$$\n",
    "\n",
    "\n",
    "### Product rule\n",
    "$$\n",
    "h(x) = f(x)*g(x)\n",
    "$$\n",
    "\n",
    "$$\n",
    "h'(x) = f'(x)*g(x) + g'(x)f(x)\n",
    "$$\n",
    "\n",
    "### Quotient rule\n",
    "$$\n",
    "h(x) = \\frac{f(x)}{g(x)}\n",
    "$$\n",
    "$$\n",
    "h'(x) = \\frac{g(x)f'(x) -f(x)g'(x)}{g(x)^2}\n",
    "$$\n",
    "\n",
    "### Chain rule\n",
    "$$\n",
    "f(x) = g(h(x))\n",
    "$$\n",
    "\n",
    "$$\n",
    "f'(x) = g'(h(x))h'(x)\n",
    "$$\n",
    "\n",
    "Consider $f(x) = \\sin(h(x))$\n",
    "$$\n",
    "\\frac{\\rm d}{\\rm dx} \\sin(h(x)) = \\cos(h(x))\\frac{\\rm dh}{\\rm dx}\n",
    "$$"
   ]
  },
  {
   "cell_type": "code",
   "execution_count": 5,
   "metadata": {},
   "outputs": [],
   "source": [
    "from math import sin, cos\n",
    "\n",
    "class Dual(object):\n",
    "    def __init__(self, x, ϵ=1):\n",
    "        self.x = x\n",
    "        self.ϵ = ϵ\n",
    "        \n",
    "    def __str__(self):\n",
    "        return str(self.x) + \" + \" + str(self.ϵ) + \"ϵ\"\n",
    "    \n",
    "    def __mul__(self, d):\n",
    "        return Dual(self.x * d.x, self.x*d.ϵ + d.x*self.ϵ)\n",
    "    \n",
    "    def __add__(self, d):\n",
    "        return Dual(self.x + d.x, self.ϵ + d.ϵ)\n",
    "    \n",
    "    def __truediv__(self, d):\n",
    "        return Dual(self.x/d.x, ((d.x *self.ϵ - d.ϵ * self.x )/d.x**2))\n",
    "    \n",
    "    def d_sin(self):\n",
    "        return Dual(sin(self.x), cos(self.x)*self.ϵ)"
   ]
  },
  {
   "cell_type": "code",
   "execution_count": 7,
   "metadata": {},
   "outputs": [
    {
     "name": "stdout",
     "output_type": "stream",
     "text": [
      "3 + 1ϵ\n",
      "9 + 2ϵ\n"
     ]
    }
   ],
   "source": [
    "print(Dual(3))\n",
    "D=Dual(2,0)*Dual(3) + Dual(3, 0)  ## 2*x + 3\n",
    "print(D)\n",
    "# print(f\"Differentiation of addition is {D}\")\n",
    "\n",
    "# D = Dual(3)*Dual(3)  ## x**2\n",
    "# print(f\"Differentiation of multiplication is {D}\")\n",
    "\n",
    "# D = Dual(6)/Dual(3)  ## x**2\n",
    "# print(f\"Differentiation of division is {D}\")\n",
    "\n",
    "\n",
    "# d = Dual(3)\n",
    "# D = d.d_sin()\n",
    "# print(f\"Differentiation of sin function is {D}\")\n"
   ]
  },
  {
   "cell_type": "markdown",
   "metadata": {},
   "source": [
    "<div>\n",
    "<img src=\"https://discuss.pytorch.org/uploads/default/original/2X/3/35226d9fbc661ced1c5d17e374638389178c3176.png\" width=\"500\" style=\"margin: 55px auto; display: block; position: relative; left: -30px;\" />\n",
    "</div>\n",
    "\n",
    "<!--NAVIGATION-->\n",
    "# PyTorch Primer | [TensorFlow Primer](2-tf.ipynb) |  [PyTorch vs TensorFlow](3-pytorch_vs_tf.ipynb) |  [JAX](4-jax.ipynb)"
   ]
  },
  {
   "cell_type": "markdown",
   "metadata": {},
   "source": [
    "## Submodule -1.4 : A Primer on PyTorch and Tensorflow"
   ]
  },
  {
   "cell_type": "markdown",
   "metadata": {},
   "source": [
    "## Table of Contents\n",
    "\n",
    "#### 1. [Installation](#Building-PyTorch-and-TensorFlow)\n",
    "#### 2. [Visualizing graph based computation](#Cosntruct-the-Graph-(Tree)-of-following-expressions)\n",
    "#### 3. [Basics of PyTorch](#Basics-of-PyTorch)\n",
    "#### 4. [Automatic Differentiation](#Automatic-Differentiation)\n",
    "#### 5. [Function Approximations](#Function-Approximations)\n"
   ]
  },
  {
   "cell_type": "markdown",
   "metadata": {},
   "source": [
    "# Building PyTorch and TensorFlow"
   ]
  },
  {
   "cell_type": "markdown",
   "metadata": {},
   "source": [
    "### Install PyTorch"
   ]
  },
  {
   "cell_type": "code",
   "execution_count": 2,
   "metadata": {},
   "outputs": [],
   "source": [
    "!pip3 install torch torchvision torchaudio"
   ]
  },
  {
   "cell_type": "markdown",
   "metadata": {},
   "source": [
    "### Install TensorFlow2"
   ]
  },
  {
   "cell_type": "code",
   "execution_count": null,
   "metadata": {},
   "outputs": [],
   "source": [
    "!pip3 install tensorflow"
   ]
  },
  {
   "cell_type": "markdown",
   "metadata": {},
   "source": [
    "### Packages in current environment"
   ]
  },
  {
   "cell_type": "code",
   "execution_count": 4,
   "metadata": {},
   "outputs": [],
   "source": [
    "#!pip freeze\n"
   ]
  },
  {
   "cell_type": "code",
   "execution_count": 8,
   "metadata": {},
   "outputs": [],
   "source": [
    "#!pip install graphviz\n",
    "#!pip install seaborn\n"
   ]
  },
  {
   "cell_type": "code",
   "execution_count": 1,
   "metadata": {},
   "outputs": [],
   "source": [
    "# Import the things we need to plot\n",
    "import matplotlib.pyplot as plt\n",
    "%matplotlib inline\n",
    "import seaborn as sns\n",
    "sns.set_context('talk')"
   ]
  },
  {
   "cell_type": "markdown",
   "metadata": {},
   "source": [
    "## Readings\n",
    "\n",
    "+ These notes.\n",
    "\n",
    "+ [Conceptual Programming with Python By Thorsten Altenkirch and Isaac Triguero](https://www.lulu.com/en/gb/shop/isaac-triguero-and-thorsten-altenkirch/conceptual-programming-with-python/paperback/product-1e4re5rj.html?page=1&pageSize=4)\n"
   ]
  },
  {
   "cell_type": "markdown",
   "metadata": {},
   "source": [
    "# Cosntruct the Graph (Tree) of following expressions\n",
    "\n",
    "Evaluate following expressions by designing the premitives\n",
    "$$\n",
    "ex1: 3*(y + x)\n",
    "$$\n",
    "\n",
    "and\n",
    "$$\n",
    "ex2: 3*y + x\n",
    "$$"
   ]
  },
  {
   "cell_type": "markdown",
   "metadata": {},
   "source": [
    "###### Cosntruct the Graph (Tree) of above expressions"
   ]
  },
  {
   "cell_type": "code",
   "execution_count": 12,
   "metadata": {},
   "outputs": [
    {
     "name": "stdout",
     "output_type": "stream",
     "text": [
      "8*(y+x)\n"
     ]
    },
    {
     "data": {
      "image/svg+xml": [
       "<?xml version=\"1.0\" encoding=\"UTF-8\" standalone=\"no\"?>\n",
       "<!DOCTYPE svg PUBLIC \"-//W3C//DTD SVG 1.1//EN\"\n",
       " \"http://www.w3.org/Graphics/SVG/1.1/DTD/svg11.dtd\">\n",
       "<!-- Generated by graphviz version 8.0.5 (20230430.1635)\n",
       " -->\n",
       "<!-- Title: ex1 Pages: 1 -->\n",
       "<svg width=\"170pt\" height=\"188pt\"\n",
       " viewBox=\"0.00 0.00 170.00 188.00\" xmlns=\"http://www.w3.org/2000/svg\" xmlns:xlink=\"http://www.w3.org/1999/xlink\">\n",
       "<g id=\"graph0\" class=\"graph\" transform=\"scale(1 1) rotate(0) translate(4 184)\">\n",
       "<title>ex1</title>\n",
       "<polygon fill=\"white\" stroke=\"none\" points=\"-4,4 -4,-184 166,-184 166,4 -4,4\"/>\n",
       "<!-- * -->\n",
       "<g id=\"node1\" class=\"node\">\n",
       "<title>*</title>\n",
       "<ellipse fill=\"none\" stroke=\"black\" cx=\"99\" cy=\"-162\" rx=\"27\" ry=\"18\"/>\n",
       "<text text-anchor=\"middle\" x=\"99\" y=\"-156.95\" font-family=\"Times,serif\" font-size=\"14.00\">*</text>\n",
       "</g>\n",
       "<!-- + -->\n",
       "<g id=\"node2\" class=\"node\">\n",
       "<title>+</title>\n",
       "<ellipse fill=\"none\" stroke=\"black\" cx=\"63\" cy=\"-90\" rx=\"27\" ry=\"18\"/>\n",
       "<text text-anchor=\"middle\" x=\"63\" y=\"-84.95\" font-family=\"Times,serif\" font-size=\"14.00\">+</text>\n",
       "</g>\n",
       "<!-- *&#45;&gt;+ -->\n",
       "<g id=\"edge2\" class=\"edge\">\n",
       "<title>*&#45;&gt;+</title>\n",
       "<path fill=\"none\" stroke=\"black\" d=\"M90.65,-144.76C86.38,-136.46 81.08,-126.15 76.27,-116.79\"/>\n",
       "<polygon fill=\"black\" stroke=\"black\" points=\"78.99,-115.44 71.3,-108.15 72.77,-118.64 78.99,-115.44\"/>\n",
       "</g>\n",
       "<!-- 8 -->\n",
       "<g id=\"node3\" class=\"node\">\n",
       "<title>8</title>\n",
       "<ellipse fill=\"none\" stroke=\"black\" cx=\"135\" cy=\"-90\" rx=\"27\" ry=\"18\"/>\n",
       "<text text-anchor=\"middle\" x=\"135\" y=\"-84.95\" font-family=\"Times,serif\" font-size=\"14.00\">8</text>\n",
       "</g>\n",
       "<!-- *&#45;&gt;8 -->\n",
       "<g id=\"edge1\" class=\"edge\">\n",
       "<title>*&#45;&gt;8</title>\n",
       "<path fill=\"none\" stroke=\"black\" d=\"M107.35,-144.76C111.62,-136.46 116.92,-126.15 121.73,-116.79\"/>\n",
       "<polygon fill=\"black\" stroke=\"black\" points=\"125.23,-118.64 126.7,-108.15 119.01,-115.44 125.23,-118.64\"/>\n",
       "</g>\n",
       "<!-- y -->\n",
       "<g id=\"node4\" class=\"node\">\n",
       "<title>y</title>\n",
       "<ellipse fill=\"none\" stroke=\"black\" cx=\"27\" cy=\"-18\" rx=\"27\" ry=\"18\"/>\n",
       "<text text-anchor=\"middle\" x=\"27\" y=\"-12.95\" font-family=\"Times,serif\" font-size=\"14.00\">y</text>\n",
       "</g>\n",
       "<!-- +&#45;&gt;y -->\n",
       "<g id=\"edge3\" class=\"edge\">\n",
       "<title>+&#45;&gt;y</title>\n",
       "<path fill=\"none\" stroke=\"black\" d=\"M54.65,-72.76C50.38,-64.46 45.08,-54.15 40.27,-44.79\"/>\n",
       "<polygon fill=\"black\" stroke=\"black\" points=\"42.99,-43.44 35.3,-36.15 36.77,-46.64 42.99,-43.44\"/>\n",
       "</g>\n",
       "<!-- x -->\n",
       "<g id=\"node5\" class=\"node\">\n",
       "<title>x</title>\n",
       "<ellipse fill=\"none\" stroke=\"black\" cx=\"99\" cy=\"-18\" rx=\"27\" ry=\"18\"/>\n",
       "<text text-anchor=\"middle\" x=\"99\" y=\"-12.95\" font-family=\"Times,serif\" font-size=\"14.00\">x</text>\n",
       "</g>\n",
       "<!-- +&#45;&gt;x -->\n",
       "<g id=\"edge4\" class=\"edge\">\n",
       "<title>+&#45;&gt;x</title>\n",
       "<path fill=\"none\" stroke=\"black\" d=\"M71.35,-72.76C75.62,-64.46 80.92,-54.15 85.73,-44.79\"/>\n",
       "<polygon fill=\"black\" stroke=\"black\" points=\"89.23,-46.64 90.7,-36.15 83.01,-43.44 89.23,-46.64\"/>\n",
       "</g>\n",
       "</g>\n",
       "</svg>\n"
      ],
      "text/plain": [
       "<graphviz.dot.Digraph at 0x7ff0174b4cd0>"
      ]
     },
     "execution_count": 12,
     "metadata": {},
     "output_type": "execute_result"
    }
   ],
   "source": [
    "print(\"8*(y+x)\")\n",
    "from graphviz import Digraph\n",
    "g1 = Digraph('ex1')\n",
    "g1.node('*', label='*')\n",
    "g1.node('+', label='+')\n",
    "g1.node('8', label='8')\n",
    "g1.node('y', label='y')\n",
    "g1.node('x', label='x')\n",
    "g1.edge('*','8')\n",
    "g1.edge('*','+')\n",
    "g1.edge('+', 'y')\n",
    "g1.edge('+', 'x')\n",
    "g1.render('ex1', format='png') # Uncomment if you want to save the figure\n",
    "g1\n"
   ]
  },
  {
   "cell_type": "code",
   "execution_count": 14,
   "metadata": {},
   "outputs": [
    {
     "name": "stdout",
     "output_type": "stream",
     "text": [
      "8*y+x\n"
     ]
    },
    {
     "data": {
      "image/svg+xml": [
       "<?xml version=\"1.0\" encoding=\"UTF-8\" standalone=\"no\"?>\n",
       "<!DOCTYPE svg PUBLIC \"-//W3C//DTD SVG 1.1//EN\"\n",
       " \"http://www.w3.org/Graphics/SVG/1.1/DTD/svg11.dtd\">\n",
       "<!-- Generated by graphviz version 8.0.5 (20230430.1635)\n",
       " -->\n",
       "<!-- Title: ex2 Pages: 1 -->\n",
       "<svg width=\"170pt\" height=\"188pt\"\n",
       " viewBox=\"0.00 0.00 170.00 188.00\" xmlns=\"http://www.w3.org/2000/svg\" xmlns:xlink=\"http://www.w3.org/1999/xlink\">\n",
       "<g id=\"graph0\" class=\"graph\" transform=\"scale(1 1) rotate(0) translate(4 184)\">\n",
       "<title>ex2</title>\n",
       "<polygon fill=\"white\" stroke=\"none\" points=\"-4,4 -4,-184 166,-184 166,4 -4,4\"/>\n",
       "<!-- * -->\n",
       "<g id=\"node1\" class=\"node\">\n",
       "<title>*</title>\n",
       "<ellipse fill=\"none\" stroke=\"black\" cx=\"63\" cy=\"-90\" rx=\"27\" ry=\"18\"/>\n",
       "<text text-anchor=\"middle\" x=\"63\" y=\"-84.95\" font-family=\"Times,serif\" font-size=\"14.00\">*</text>\n",
       "</g>\n",
       "<!-- 8 -->\n",
       "<g id=\"node3\" class=\"node\">\n",
       "<title>8</title>\n",
       "<ellipse fill=\"none\" stroke=\"black\" cx=\"27\" cy=\"-18\" rx=\"27\" ry=\"18\"/>\n",
       "<text text-anchor=\"middle\" x=\"27\" y=\"-12.95\" font-family=\"Times,serif\" font-size=\"14.00\">8</text>\n",
       "</g>\n",
       "<!-- *&#45;&gt;8 -->\n",
       "<g id=\"edge3\" class=\"edge\">\n",
       "<title>*&#45;&gt;8</title>\n",
       "<path fill=\"none\" stroke=\"black\" d=\"M54.65,-72.76C50.38,-64.46 45.08,-54.15 40.27,-44.79\"/>\n",
       "<polygon fill=\"black\" stroke=\"black\" points=\"42.99,-43.44 35.3,-36.15 36.77,-46.64 42.99,-43.44\"/>\n",
       "</g>\n",
       "<!-- y -->\n",
       "<g id=\"node4\" class=\"node\">\n",
       "<title>y</title>\n",
       "<ellipse fill=\"none\" stroke=\"black\" cx=\"99\" cy=\"-18\" rx=\"27\" ry=\"18\"/>\n",
       "<text text-anchor=\"middle\" x=\"99\" y=\"-12.95\" font-family=\"Times,serif\" font-size=\"14.00\">y</text>\n",
       "</g>\n",
       "<!-- *&#45;&gt;y -->\n",
       "<g id=\"edge4\" class=\"edge\">\n",
       "<title>*&#45;&gt;y</title>\n",
       "<path fill=\"none\" stroke=\"black\" d=\"M71.35,-72.76C75.62,-64.46 80.92,-54.15 85.73,-44.79\"/>\n",
       "<polygon fill=\"black\" stroke=\"black\" points=\"89.23,-46.64 90.7,-36.15 83.01,-43.44 89.23,-46.64\"/>\n",
       "</g>\n",
       "<!-- + -->\n",
       "<g id=\"node2\" class=\"node\">\n",
       "<title>+</title>\n",
       "<ellipse fill=\"none\" stroke=\"black\" cx=\"99\" cy=\"-162\" rx=\"27\" ry=\"18\"/>\n",
       "<text text-anchor=\"middle\" x=\"99\" y=\"-156.95\" font-family=\"Times,serif\" font-size=\"14.00\">+</text>\n",
       "</g>\n",
       "<!-- +&#45;&gt;* -->\n",
       "<g id=\"edge1\" class=\"edge\">\n",
       "<title>+&#45;&gt;*</title>\n",
       "<path fill=\"none\" stroke=\"black\" d=\"M90.65,-144.76C86.38,-136.46 81.08,-126.15 76.27,-116.79\"/>\n",
       "<polygon fill=\"black\" stroke=\"black\" points=\"78.99,-115.44 71.3,-108.15 72.77,-118.64 78.99,-115.44\"/>\n",
       "</g>\n",
       "<!-- x -->\n",
       "<g id=\"node5\" class=\"node\">\n",
       "<title>x</title>\n",
       "<ellipse fill=\"none\" stroke=\"black\" cx=\"135\" cy=\"-90\" rx=\"27\" ry=\"18\"/>\n",
       "<text text-anchor=\"middle\" x=\"135\" y=\"-84.95\" font-family=\"Times,serif\" font-size=\"14.00\">x</text>\n",
       "</g>\n",
       "<!-- +&#45;&gt;x -->\n",
       "<g id=\"edge2\" class=\"edge\">\n",
       "<title>+&#45;&gt;x</title>\n",
       "<path fill=\"none\" stroke=\"black\" d=\"M107.35,-144.76C111.62,-136.46 116.92,-126.15 121.73,-116.79\"/>\n",
       "<polygon fill=\"black\" stroke=\"black\" points=\"125.23,-118.64 126.7,-108.15 119.01,-115.44 125.23,-118.64\"/>\n",
       "</g>\n",
       "</g>\n",
       "</svg>\n"
      ],
      "text/plain": [
       "<graphviz.dot.Digraph at 0x7ff0174db820>"
      ]
     },
     "execution_count": 14,
     "metadata": {},
     "output_type": "execute_result"
    }
   ],
   "source": [
    "print(\"8*y+x\")\n",
    "g2 = Digraph('ex2')\n",
    "g2.node('*', label='*')\n",
    "g2.node('+', label='+')\n",
    "g2.node('8', label='8')\n",
    "g2.node('y', label='y')\n",
    "g2.node('x', label='x')\n",
    "g2.edge('+','*')\n",
    "g2.edge('+','x')\n",
    "g2.edge('*', '8')\n",
    "g2.edge('*', 'y')\n",
    "g2.render('ex2', format='png') # Uncomment if you want to save the figure\n",
    "g2"
   ]
  },
  {
   "cell_type": "code",
   "execution_count": 9,
   "metadata": {},
   "outputs": [
    {
     "name": "stdout",
     "output_type": "stream",
     "text": [
      "(8*(y+x))\n",
      "((8*y)+x)\n"
     ]
    }
   ],
   "source": [
    "# Super class for Expressions:\n",
    "\n",
    "class Expr:\n",
    "    pass\n",
    "\n",
    "### Subclass of Expr for Constant e.g., 3\n",
    "\n",
    "class Const(Expr):\n",
    "    def __init__(self, val):\n",
    "        self.val = val  \n",
    "        \n",
    "    def getVal(self):\n",
    "        return self.val\n",
    "    \n",
    "    def __str__(self):\n",
    "        return str(self.getVal())\n",
    "    \n",
    "    def eval(self, env):\n",
    "        return self.getVal()\n",
    "\n",
    "### Subclass of Expr for Variables e.g., x, y       \n",
    "class Var(Expr):\n",
    "    def __init__(self, name):\n",
    "        self.name = name\n",
    "        \n",
    "    def getName(self):\n",
    "        return self.name\n",
    "        \n",
    "    def __str__(self):\n",
    "        return self.getName()\n",
    "    \n",
    "    def eval(self, env):\n",
    "        return env[self.name]\n",
    "\n",
    "### Subclass of Expr for Binary Operations: e.g., x, y       \n",
    "class Times(Expr):\n",
    "    def __init__(self, l, r):\n",
    "        self.l = l\n",
    "        self.r = r\n",
    "        \n",
    "    def getLeft(self):\n",
    "        return self.l\n",
    "    \n",
    "    def getRight(self):\n",
    "        return self.r\n",
    "          \n",
    "    def __str__(self):\n",
    "        return \"(\" + str(self.getLeft()) + \"*\" + str(self.getRight()) + \")\"\n",
    "    \n",
    "    def eval(self, env):\n",
    "        return self.getLeft().eval(env)*self.getRight().eval(env)\n",
    "\n",
    "class Plus(Expr):\n",
    "    def __init__(self, l, r):\n",
    "        self.l = l\n",
    "        self.r = r\n",
    "    def __str__(self):\n",
    "        return \"(\" + str(self.l) + \"+\" + str(self.r) + \")\"\n",
    "    \n",
    "    def getLeft(self):\n",
    "        return self.l\n",
    "    \n",
    "    def getRight(self):\n",
    "        return self.r\n",
    "    \n",
    "    def eval(self, env):\n",
    "        print(f\"Printing Eval {env}\")\n",
    "        return self.getLeft().eval(env) + self.getRight().eval(env)\n",
    "        \n",
    "### Let's print ex1: 8*(y + x)\n",
    "\n",
    "ex1 = Times(Const(8), Plus(Var(\"y\"),Var(\"x\")))\n",
    "\n",
    "### Let's print ex1: 3*y + x\n",
    "ex2 = Plus(Times(Const(8), Var(\"y\")), Var(\"x\")) \n",
    "\n",
    "print(ex1)\n",
    "print(ex2)"
   ]
  },
  {
   "cell_type": "code",
   "execution_count": 10,
   "metadata": {},
   "outputs": [
    {
     "name": "stdout",
     "output_type": "stream",
     "text": [
      "Printing Eval {'x': 5, 'y': 10}\n"
     ]
    },
    {
     "data": {
      "text/plain": [
       "120"
      ]
     },
     "execution_count": 10,
     "metadata": {},
     "output_type": "execute_result"
    }
   ],
   "source": [
    "# Evaluate The Expressions\n",
    "vals = {\"x\":5, \"y\":10}\n",
    "ex1.eval(vals)\n"
   ]
  },
  {
   "cell_type": "markdown",
   "metadata": {},
   "source": [
    "# Basics of PyTorch"
   ]
  },
  {
   "cell_type": "markdown",
   "metadata": {},
   "source": [
    "#### Tensors and Properties"
   ]
  },
  {
   "cell_type": "code",
   "execution_count": 9,
   "metadata": {},
   "outputs": [],
   "source": [
    "import torch"
   ]
  },
  {
   "cell_type": "code",
   "execution_count": 10,
   "metadata": {},
   "outputs": [],
   "source": [
    "import numpy as np"
   ]
  },
  {
   "cell_type": "code",
   "execution_count": 11,
   "metadata": {},
   "outputs": [
    {
     "data": {
      "text/plain": [
       "array([[0.5488135 , 0.71518937, 0.60276338],\n",
       "       [0.54488318, 0.4236548 , 0.64589411],\n",
       "       [0.43758721, 0.891773  , 0.96366276]])"
      ]
     },
     "execution_count": 11,
     "metadata": {},
     "output_type": "execute_result"
    }
   ],
   "source": [
    "# Set seed for reproducibility\n",
    "np.random.seed(0)\n",
    "\n",
    "\n",
    "# Predefine Matrix of shape=(2,3)\n",
    "np.array([[4, 5, 6], [1, 7, 8]])\n",
    "\n",
    "# Zero Matrix of shape=(3,3)\n",
    "np.zeros((3,3))\n",
    "\n",
    "# Identity Matrix of shape=(2,2)\n",
    "np.eye(2)\n",
    "\n",
    "# Random Matrix of shape=(3,3)\n",
    "np.random.rand(3,3)"
   ]
  },
  {
   "cell_type": "code",
   "execution_count": 15,
   "metadata": {},
   "outputs": [
    {
     "data": {
      "text/plain": [
       "tensor([[0.4963, 0.7682, 0.0885],\n",
       "        [0.1320, 0.3074, 0.6341],\n",
       "        [0.4901, 0.8964, 0.4556]])"
      ]
     },
     "execution_count": 15,
     "metadata": {},
     "output_type": "execute_result"
    }
   ],
   "source": [
    "# Set seed for reproducibility\n",
    "torch.manual_seed(0)\n",
    "\n",
    "\n",
    "# Predefine Matrix of shape=(2,3)\n",
    "torch.tensor([[4, 5, 6], [1, 7, 8]])\n",
    "\n",
    "# Zero Matrix of shape=(3,3)\n",
    "torch.zeros((3,3))\n",
    "\n",
    "# Identity Matrix of shape=(2,2)\n",
    "torch.eye(2)\n",
    "\n",
    "# Random Matrix of shape=(3,3)\n",
    "torch.rand(3,3)"
   ]
  },
  {
   "cell_type": "code",
   "execution_count": 8,
   "metadata": {},
   "outputs": [
    {
     "ename": "NameError",
     "evalue": "name 'torch' is not defined",
     "output_type": "error",
     "traceback": [
      "\u001b[0;31m---------------------------------------------------------------------------\u001b[0m",
      "\u001b[0;31mNameError\u001b[0m                                 Traceback (most recent call last)",
      "\u001b[0;32m<ipython-input-8-1874185ee5bc>\u001b[0m in \u001b[0;36m<module>\u001b[0;34m\u001b[0m\n\u001b[1;32m      2\u001b[0m \u001b[0;34m\u001b[0m\u001b[0m\n\u001b[1;32m      3\u001b[0m \u001b[0;31m# Scalar\u001b[0m\u001b[0;34m\u001b[0m\u001b[0;34m\u001b[0m\u001b[0;34m\u001b[0m\u001b[0m\n\u001b[0;32m----> 4\u001b[0;31m \u001b[0ms\u001b[0m \u001b[0;34m=\u001b[0m \u001b[0mtorch\u001b[0m\u001b[0;34m.\u001b[0m\u001b[0mtensor\u001b[0m\u001b[0;34m(\u001b[0m\u001b[0;36m1.\u001b[0m\u001b[0;34m)\u001b[0m\u001b[0;34m\u001b[0m\u001b[0;34m\u001b[0m\u001b[0m\n\u001b[0m\u001b[1;32m      5\u001b[0m \u001b[0mprint\u001b[0m\u001b[0;34m(\u001b[0m\u001b[0;34mf\"Sclaer x: {s}\"\u001b[0m\u001b[0;34m)\u001b[0m\u001b[0;34m\u001b[0m\u001b[0;34m\u001b[0m\u001b[0m\n\u001b[1;32m      6\u001b[0m \u001b[0;34m\u001b[0m\u001b[0m\n",
      "\u001b[0;31mNameError\u001b[0m: name 'torch' is not defined"
     ]
    }
   ],
   "source": [
    "##### Dimension operations on Tensors.\n",
    "\n",
    "# Scalar\n",
    "s = torch.tensor(1.)\n",
    "print(f\"Sclaer x: {s}\")\n",
    "\n",
    "# Check dimension of Scalar\n",
    "d = s.dim()\n",
    "print(f\"Dimension of vector is: {d}\")\n",
    "\n",
    "# Vectors\n",
    "v = torch.tensor([1., 2., 3.])\n",
    "print(f\"Vector v: {v}\")\n",
    "#Check dimension of Vectors\n",
    "d = v.dim()\n",
    "print(f\"Dimension of vector is: {d}\")\n",
    "\n",
    "\n",
    "# Matrix\n",
    "m = torch.tensor([[1., 2., 3.],[4., 5., 6.]])\n",
    "d = m.dim()\n",
    "print(f\"Dimension of matrix is: {d}\")\n",
    "\n",
    "\n",
    "# Tensor\n",
    "# Matrix\n",
    "m = torch.tensor([[[1., 2., 3.],[4., 5., 6.], [1., 2., 3.],[4., 5., 6.]]])\n",
    "d = m.dim()\n",
    "print(f\"Dimension of Tensor is: {d}\")\n",
    "\n",
    "\n"
   ]
  },
  {
   "cell_type": "markdown",
   "metadata": {},
   "source": [
    "#### Methods on Tensors"
   ]
  },
  {
   "cell_type": "markdown",
   "metadata": {},
   "source": [
    "###### Sum"
   ]
  },
  {
   "cell_type": "code",
   "execution_count": 15,
   "metadata": {},
   "outputs": [
    {
     "name": "stdout",
     "output_type": "stream",
     "text": [
      "x: tensor([[0.4963, 0.7682],\n",
      "        [0.0885, 0.1320],\n",
      "        [0.3074, 0.6341]])\n",
      "xsum using mthod1: tensor([1.2645, 0.2205, 0.9415])\n",
      "xsum using mthod2: tensor([1.2645, 0.2205, 0.9415])\n"
     ]
    }
   ],
   "source": [
    "# Set seed for reproducibility\n",
    "torch.manual_seed(0)\n",
    "\n",
    "\n",
    "# Random Matrix of shape=(3,3)\n",
    "x = torch.rand(3,2)\n",
    "print(f\"x: {x}\")\n",
    "\n",
    "xsum = torch.sum(x, dim=1)\n",
    "print(f\"xsum using mthod1: {xsum}\")\n",
    "\n",
    "x.sum(dim=1)\n",
    "print(f\"xsum using mthod2: {xsum}\")\n",
    "\n"
   ]
  },
  {
   "cell_type": "markdown",
   "metadata": {},
   "source": [
    "###### Reshape : `view` and  `reshape`  methods"
   ]
  },
  {
   "cell_type": "code",
   "execution_count": 16,
   "metadata": {},
   "outputs": [],
   "source": [
    "#### Inplace Reshaping\n",
    "\n",
    "# A vector of length N=10\n",
    "x = torch.tensor([1,2,3,4,5,6,7,8,9,10, 11, 12])\n",
    "# Reshape in amatrix of shape= (2,5)\n",
    "x.view(3,4)\n",
    "\n",
    "# Reshape with unspecified number of rows and 4 column\n",
    "x.view(-1, 4)\n",
    "\n",
    "#### Reshaping via copying\n",
    "\n",
    "# A vector of length N=10\n",
    "x = torch.tensor([1,2,3,4,5,6,7,8,9,10,11,12])\n",
    "\n",
    "# Reshape in amatrix of shape= (2,5)\n",
    "y3 = x.reshape(3,4)\n",
    "\n",
    "# Reshape with unspecified number of rows and 4 column\n",
    "y4 = x.reshape(-1,4)"
   ]
  },
  {
   "cell_type": "markdown",
   "metadata": {},
   "source": [
    "###### Computing Norm of a vector using `norm` method\n",
    "\n",
    "$$\n",
    "L_p~\\text{norm}:\n",
    "||{\\mathbf{x}}||_p = \\left(\\sum_i |x_i|^p\\right)^{\\frac{1}{p}}\n",
    "$$\n",
    "\n",
    "\n",
    "$$\n",
    "L^1~\\text{norm}:\n",
    "|| {\\mathbf{x}} ||_1 = |x_1| + |x_2| + \\ldots + |x_n|\n",
    "$$\n",
    "\n",
    "$$\n",
    "L^2~\\text{norm}:\n",
    "|| {\\mathbf{x}} ||_2 = \\sqrt{x_1^2 + x_2^2 + \\ldots + x_n^2}\n",
    "$$\n",
    "\n"
   ]
  },
  {
   "cell_type": "code",
   "execution_count": 17,
   "metadata": {},
   "outputs": [
    {
     "name": "stdout",
     "output_type": "stream",
     "text": [
      "L1 Norm of x is:1.3529558181762695\n",
      "L2 Norm of x is:0.9188381433486938\n"
     ]
    }
   ],
   "source": [
    "torch.manual_seed(0)\n",
    "x = torch.rand(3)\n",
    "x.norm(p=1)\n",
    "x.norm(p=2)\n",
    "print(f\"L1 Norm of x is:{x.norm(p=1)}\")\n",
    "print(f\"L2 Norm of x is:{x.norm(p=2)}\")"
   ]
  },
  {
   "cell_type": "markdown",
   "metadata": {},
   "source": [
    "###### Computing Norm of a vector without using the method"
   ]
  },
  {
   "cell_type": "code",
   "execution_count": 18,
   "metadata": {},
   "outputs": [
    {
     "name": "stdout",
     "output_type": "stream",
     "text": [
      "L1 norm: is: 1.3529558181762695\n",
      "L2 norm: is: 0.9188381433486938\n",
      "L1 norm: is: 1.3529558181762695\n",
      "L2 norm: is: 0.9188381433486938\n"
     ]
    }
   ],
   "source": [
    "n1 = torch.sum(torch.abs(x))\n",
    "print(f\"L1 norm: is: {n1}\")\n",
    "n2 = torch.sqrt(torch.sum(x**2))\n",
    "print(f\"L2 norm: is: {n2}\")\n",
    "\n",
    "## Or Calling method directly on the data structures\n",
    "n1 = x.abs().sum()\n",
    "print(f\"L1 norm: is: {n1}\")\n",
    "n2 = (x**2).sum().sqrt() \n",
    "print(f\"L2 norm: is: {n2}\")"
   ]
  },
  {
   "cell_type": "markdown",
   "metadata": {},
   "source": [
    "### Tensors on GPU"
   ]
  },
  {
   "cell_type": "code",
   "execution_count": 19,
   "metadata": {},
   "outputs": [
    {
     "data": {
      "text/plain": [
       "False"
      ]
     },
     "execution_count": 19,
     "metadata": {},
     "output_type": "execute_result"
    }
   ],
   "source": [
    "import torch\n",
    "torch.cuda.is_available()  # Check if we can use GPUs"
   ]
  },
  {
   "cell_type": "code",
   "execution_count": 20,
   "metadata": {},
   "outputs": [],
   "source": [
    "x = torch.Tensor([[4,5,8], [3,8,9]])"
   ]
  },
  {
   "cell_type": "markdown",
   "metadata": {},
   "source": [
    "### Mapping tensors to GPU"
   ]
  },
  {
   "cell_type": "code",
   "execution_count": 21,
   "metadata": {},
   "outputs": [
    {
     "data": {
      "text/plain": [
       "tensor([[4., 5., 8.],\n",
       "        [3., 8., 9.]])"
      ]
     },
     "execution_count": 21,
     "metadata": {},
     "output_type": "execute_result"
    }
   ],
   "source": [
    "dev_cpu = torch.device(\"cpu\")\n",
    "dev_gpu = torch.device(\"cuda:0\")\n",
    "\n",
    "# Send Tensor to GPU\n",
    "x.to(dev_cpu)\n"
   ]
  },
  {
   "cell_type": "code",
   "execution_count": 22,
   "metadata": {},
   "outputs": [
    {
     "data": {
      "text/plain": [
       "tensor([[4., 5., 8.],\n",
       "        [3., 8., 9.]])"
      ]
     },
     "execution_count": 22,
     "metadata": {},
     "output_type": "execute_result"
    }
   ],
   "source": [
    "# At the start of your code\n",
    "device = torch.device(\"cpu\" if not torch.cuda.is_available() else \"cuda\")\n",
    "\n",
    "# For later dispatch\n",
    "x.to(device)"
   ]
  },
  {
   "cell_type": "markdown",
   "metadata": {},
   "source": [
    "### NumPy ----> PyTorch ----> NumPy"
   ]
  },
  {
   "cell_type": "code",
   "execution_count": 17,
   "metadata": {},
   "outputs": [
    {
     "name": "stdout",
     "output_type": "stream",
     "text": [
      "[[0.38344152 0.79172504 0.52889492 0.56804456]\n",
      " [0.92559664 0.07103606 0.0871293  0.0202184 ]\n",
      " [0.83261985 0.77815675 0.87001215 0.97861834]\n",
      " [0.79915856 0.46147936 0.78052918 0.11827443]]\n"
     ]
    }
   ],
   "source": [
    "import numpy as np\n",
    "\n",
    "x = np.random.random((4,4))\n",
    "print(x)"
   ]
  },
  {
   "cell_type": "code",
   "execution_count": 19,
   "metadata": {},
   "outputs": [
    {
     "name": "stdout",
     "output_type": "stream",
     "text": [
      "tensor([[0.3834, 0.7917, 0.5289, 0.5680],\n",
      "        [0.9256, 0.0710, 0.0871, 0.0202],\n",
      "        [0.8326, 0.7782, 0.8700, 0.9786],\n",
      "        [0.7992, 0.4615, 0.7805, 0.1183]], dtype=torch.float64)\n"
     ]
    }
   ],
   "source": [
    "# NumPy to PyTorch\n",
    "Y = torch.from_numpy(x)\n",
    "print(Y)"
   ]
  },
  {
   "cell_type": "code",
   "execution_count": 70,
   "metadata": {},
   "outputs": [],
   "source": [
    "# PyTorch ---> NumPy"
   ]
  },
  {
   "cell_type": "code",
   "execution_count": 92,
   "metadata": {},
   "outputs": [],
   "source": [
    "X = Y.numpy()\n",
    "#print(X)"
   ]
  },
  {
   "cell_type": "markdown",
   "metadata": {},
   "source": [
    "### Timing GPU Operations"
   ]
  },
  {
   "cell_type": "code",
   "execution_count": 20,
   "metadata": {},
   "outputs": [
    {
     "data": {
      "text/plain": [
       "torch.Size([100, 400, 400])"
      ]
     },
     "execution_count": 20,
     "metadata": {},
     "output_type": "execute_result"
    }
   ],
   "source": [
    "A = torch.rand(100, 400, 400)\n",
    "#B = A.cuda()\n",
    "A.size()"
   ]
  },
  {
   "cell_type": "code",
   "execution_count": 22,
   "metadata": {},
   "outputs": [
    {
     "name": "stdout",
     "output_type": "stream",
     "text": [
      "27.2 ms ± 5.42 ms per loop (mean ± std. dev. of 7 runs, 3 loops each)\n"
     ]
    }
   ],
   "source": [
    "%timeit -n 3 torch.bmm(A, A)\n",
    "#%timeit -n 3 torch.bmm(B, B)"
   ]
  },
  {
   "cell_type": "markdown",
   "metadata": {},
   "source": [
    "\n",
    "$$\n",
    "a = 8\\\\\n",
    "b = 6\\\\\n",
    "c = a + b\\\\\n",
    "d = a * c\\\\\n",
    "$$\n",
    "Compute $ \\frac{\\partial d}{\\partial a}$\n",
    "High School Approach:\n",
    "\n",
    "1. $\\qquad d = a*c$\n",
    "\n",
    "2. $\\qquad  \\frac{\\partial d}{\\partial a} = c * \\frac{\\partial a}{\\partial a} + a * \\frac{\\partial c}{\\partial a}$\n",
    "\n",
    "3. $\\qquad  \\frac{\\partial d}{\\partial a} = c + a* \\frac{\\partial c}{\\partial a}$\n",
    "4. $\\qquad  \\frac{\\partial d}{\\partial a} = (a + b) + a*\\frac{\\partial a}{\\partial a} + a * \\frac{\\partial b}{\\partial a} $\n",
    "5. $\\qquad  \\frac{\\partial d}{\\partial a} = a + b + a*(1 + 0)$\n",
    "6. $\\qquad  \\frac{\\partial d}{\\partial a} = 2a + b $\n",
    "7. $\\qquad  \\frac{\\partial d}{\\partial a} = 2*8+ 6 = 22 $\n",
    "\n",
    "In case if you need to $\\frac{\\partial d}{\\partial b}$, steps 1-7 need to carried out again.\n",
    "\""
   ]
  },
  {
   "cell_type": "markdown",
   "metadata": {},
   "source": [
    "# Automatic Differentiation"
   ]
  },
  {
   "cell_type": "code",
   "execution_count": 15,
   "metadata": {},
   "outputs": [],
   "source": [
    "from collections import defaultdict\n",
    "class Var:\n",
    "    def __init__(self, val, local_grad=()):\n",
    "        self.val = val\n",
    "        self.local_grad = local_grad\n",
    "         \n",
    "    def __add__(self, other):\n",
    "        y = self.val + other.val\n",
    "        local_grad = ((self, 1), (other, 1))       \n",
    "        return Var(y, local_grad)\n",
    "    \n",
    "    def __mul__(self, other):\n",
    "        y = self.val*other.val\n",
    "        local_grad = ((self, other.val), (other, self.val))\n",
    "        return Var(y, local_grad)\n",
    "    \n",
    "    def __sub__(self, other):\n",
    "        y = self.val - other.val\n",
    "        local_grad = ((self, 1), (other, -1))       \n",
    "        return Var(y, local_grad)\n",
    "    \n",
    "    \n",
    "def get_grads(var):\n",
    "    grad = defaultdict(lambda:0)\n",
    "    \n",
    "    def compute_grad(var, path):\n",
    "        for child_var, loc_grad in var.local_grad:\n",
    "            val_path_child = path * loc_grad\n",
    "            grad[child_var] += val_path_child\n",
    "            compute_grad(child_var,val_path_child)   \n",
    "    \n",
    "    compute_grad(var, path=1)\n",
    "    \n",
    "    return grad\n",
    "    \n",
    "    \n",
    "    \n",
    "    \n",
    "   \n",
    "        \n",
    "        "
   ]
  },
  {
   "cell_type": "code",
   "execution_count": 18,
   "metadata": {},
   "outputs": [
    {
     "name": "stdout",
     "output_type": "stream",
     "text": [
      "AD of addition: 22\n",
      "AD of subtraction: 10\n"
     ]
    }
   ],
   "source": [
    "a = Var(8)\n",
    "b = Var(6)\n",
    "\n",
    "## AD for Addition \n",
    "\n",
    "c = a + b\n",
    "d = a*c\n",
    "\n",
    "grad = get_grads(d)\n",
    "\n",
    "print(f\"AD of addition: {grad[a]}\")\n",
    "\n",
    "## AD for Subtraction \n",
    "\n",
    "c = a - b\n",
    "d = a*c\n",
    "\n",
    "grad = get_grads(d)\n",
    "\n",
    "print(f\"AD of subtraction: {grad[a]}\")\n",
    "\n"
   ]
  },
  {
   "cell_type": "markdown",
   "metadata": {},
   "source": [
    "# Einstein Summation"
   ]
  },
  {
   "cell_type": "code",
   "execution_count": 2,
   "metadata": {
    "scrolled": true
   },
   "outputs": [
    {
     "data": {
      "text/plain": [
       "<torch._C.Generator at 0x7f82814290b0>"
      ]
     },
     "execution_count": 2,
     "metadata": {},
     "output_type": "execute_result"
    }
   ],
   "source": [
    "import torch\n",
    "torch.manual_seed(1234)"
   ]
  },
  {
   "cell_type": "code",
   "execution_count": 3,
   "metadata": {},
   "outputs": [
    {
     "data": {
      "text/plain": [
       "tensor([[9, 7, 3, 8],\n",
       "        [3, 4, 9, 7],\n",
       "        [3, 5, 5, 6]])"
      ]
     },
     "execution_count": 3,
     "metadata": {},
     "output_type": "execute_result"
    }
   ],
   "source": [
    "A=torch.randint(3, 10, (3, 4))\n",
    "B=torch.randint(3, 10, (4, 3))\n",
    "A\n",
    "\n"
   ]
  },
  {
   "cell_type": "code",
   "execution_count": 4,
   "metadata": {},
   "outputs": [
    {
     "data": {
      "text/plain": [
       "tensor([[4, 8, 3],\n",
       "        [6, 7, 4],\n",
       "        [9, 8, 6],\n",
       "        [4, 5, 8]])"
      ]
     },
     "execution_count": 4,
     "metadata": {},
     "output_type": "execute_result"
    }
   ],
   "source": [
    "B\n"
   ]
  },
  {
   "cell_type": "code",
   "execution_count": 32,
   "metadata": {},
   "outputs": [
    {
     "data": {
      "text/plain": [
       "tensor([[137, 185, 137],\n",
       "        [145, 159, 135],\n",
       "        [111, 129, 107]])"
      ]
     },
     "execution_count": 32,
     "metadata": {},
     "output_type": "execute_result"
    }
   ],
   "source": [
    "torch.matmul(A, B)"
   ]
  },
  {
   "cell_type": "code",
   "execution_count": 36,
   "metadata": {},
   "outputs": [
    {
     "data": {
      "text/plain": [
       "tensor([[137, 185, 137],\n",
       "        [145, 159, 135],\n",
       "        [111, 129, 107]])"
      ]
     },
     "execution_count": 36,
     "metadata": {},
     "output_type": "execute_result"
    }
   ],
   "source": [
    "C= torch.einsum(\"ij, jk -> ik\", A, B)\n",
    "C"
   ]
  },
  {
   "cell_type": "code",
   "execution_count": 5,
   "metadata": {},
   "outputs": [
    {
     "data": {
      "text/plain": [
       "tensor([[[9, 7, 3],\n",
       "         [8, 3, 4],\n",
       "         [9, 7, 3],\n",
       "         [5, 5, 6]],\n",
       "\n",
       "        [[4, 8, 3],\n",
       "         [6, 7, 4],\n",
       "         [9, 8, 6],\n",
       "         [4, 5, 8]],\n",
       "\n",
       "        [[7, 8, 8],\n",
       "         [9, 6, 4],\n",
       "         [7, 4, 5],\n",
       "         [7, 7, 6]]])"
      ]
     },
     "execution_count": 5,
     "metadata": {},
     "output_type": "execute_result"
    }
   ],
   "source": [
    "torch.manual_seed(1234)\n",
    "A=torch.randint(3, 10, (3, 4, 3))\n",
    "B=torch.randint(3, 10, (3, 3, 4))\n",
    "A\n",
    "\n"
   ]
  },
  {
   "cell_type": "code",
   "execution_count": 38,
   "metadata": {},
   "outputs": [
    {
     "data": {
      "text/plain": [
       "tensor([[[7, 5, 4, 4],\n",
       "         [5, 6, 4, 6],\n",
       "         [3, 7, 3, 8]],\n",
       "\n",
       "        [[8, 6, 8, 6],\n",
       "         [7, 9, 8, 4],\n",
       "         [8, 4, 8, 5]],\n",
       "\n",
       "        [[5, 9, 7, 4],\n",
       "         [5, 5, 7, 3],\n",
       "         [8, 7, 3, 7]]])"
      ]
     },
     "execution_count": 38,
     "metadata": {},
     "output_type": "execute_result"
    }
   ],
   "source": [
    "B"
   ]
  },
  {
   "cell_type": "code",
   "execution_count": 39,
   "metadata": {},
   "outputs": [
    {
     "data": {
      "text/plain": [
       "tensor([[[107, 108,  73, 102],\n",
       "         [ 83,  86,  56,  82],\n",
       "         [107, 108,  73, 102],\n",
       "         [ 78,  97,  58,  98]],\n",
       "\n",
       "        [[112, 108, 120,  71],\n",
       "         [129, 115, 136,  84],\n",
       "         [176, 150, 184, 116],\n",
       "         [131, 101, 136,  84]],\n",
       "\n",
       "        [[139, 159, 129, 108],\n",
       "         [107, 139, 117,  82],\n",
       "         [ 95, 118,  92,  75],\n",
       "         [118, 140, 116,  91]]])"
      ]
     },
     "execution_count": 39,
     "metadata": {},
     "output_type": "execute_result"
    }
   ],
   "source": [
    "C = torch.einsum(\"bij, bjk->bik\", A,B)\n",
    "C"
   ]
  },
  {
   "cell_type": "code",
   "execution_count": 40,
   "metadata": {},
   "outputs": [],
   "source": [
    "Ct = torch.matmul(A, B)"
   ]
  },
  {
   "cell_type": "code",
   "execution_count": 41,
   "metadata": {},
   "outputs": [
    {
     "data": {
      "text/plain": [
       "tensor([[[107, 108,  73, 102],\n",
       "         [ 83,  86,  56,  82],\n",
       "         [107, 108,  73, 102],\n",
       "         [ 78,  97,  58,  98]],\n",
       "\n",
       "        [[112, 108, 120,  71],\n",
       "         [129, 115, 136,  84],\n",
       "         [176, 150, 184, 116],\n",
       "         [131, 101, 136,  84]],\n",
       "\n",
       "        [[139, 159, 129, 108],\n",
       "         [107, 139, 117,  82],\n",
       "         [ 95, 118,  92,  75],\n",
       "         [118, 140, 116,  91]]])"
      ]
     },
     "execution_count": 41,
     "metadata": {},
     "output_type": "execute_result"
    }
   ],
   "source": [
    "Ct\n"
   ]
  },
  {
   "cell_type": "markdown",
   "metadata": {},
   "source": [
    "# Function Approximations"
   ]
  },
  {
   "cell_type": "markdown",
   "metadata": {},
   "source": [
    "### Parabolic Function"
   ]
  },
  {
   "cell_type": "code",
   "execution_count": 35,
   "metadata": {},
   "outputs": [
    {
     "name": "stdout",
     "output_type": "stream",
     "text": [
      "Collecting torchsummary\n",
      "  Downloading torchsummary-1.5.1-py3-none-any.whl (2.8 kB)\n",
      "Installing collected packages: torchsummary\n",
      "Successfully installed torchsummary-1.5.1\n",
      "\u001b[33mWARNING: You are using pip version 22.0.4; however, version 22.3.1 is available.\n",
      "You should consider upgrading via the '/Users/raj/opt/anaconda3/bin/python -m pip install --upgrade pip' command.\u001b[0m\u001b[33m\n",
      "\u001b[0m"
     ]
    }
   ],
   "source": [
    "!pip install torchsummary"
   ]
  },
  {
   "cell_type": "code",
   "execution_count": 72,
   "metadata": {},
   "outputs": [
    {
     "data": {
      "image/png": "[encoded data removed]",
      "text/plain": [
       "<Figure size 576x288 with 1 Axes>"
      ]
     },
     "metadata": {
      "needs_background": "light"
     },
     "output_type": "display_data"
    }
   ],
   "source": [
    "import numpy as np\n",
    "import imageio\n",
    "import torch\n",
    "import torch.nn.functional as F\n",
    "import torch.utils.data as Data\n",
    "from torch.autograd import Variable\n",
    "from torch.optim import Adam, LBFGS, SGD\n",
    "from torch.utils.data import Dataset, DataLoader\n",
    "import matplotlib.pyplot as plt\n",
    "%matplotlib inline\n",
    "\n",
    "\n",
    "torch.manual_seed(1234)\n",
    " \n",
    "N_p = 100\n",
    "\n",
    "### Input data\n",
    "x = torch.unsqueeze(torch.linspace(-1, 1, N_p), dim=1) \n",
    "# torch.unsqueeze: Returns a new tensor \n",
    "# with a dimension of size one inserted at the specified position.\n",
    "y = torch.square(x)\n",
    "# Add Random Noise\n",
    "y = y + 0.1*torch.rand(y.size())\n",
    "\n",
    "# Plot the data\n",
    "plt.figure(figsize=(8,4))\n",
    "\n",
    "x_plot, y_plot = x.numpy(), y.numpy()\n",
    "plt.scatter(x_plot, y_plot, color=\"red\")\n",
    "plt.xlabel(\"x\")\n",
    "plt.ylabel(\"y\")\n",
    "plt.show(\"Data for Regression Analysis\")\n",
    "plt.show()\n",
    "\n",
    "\n",
    "\n",
    "\n",
    "\n"
   ]
  },
  {
   "cell_type": "code",
   "execution_count": 83,
   "metadata": {},
   "outputs": [
    {
     "name": "stdout",
     "output_type": "stream",
     "text": [
      "----------------------------------------------------------------\n",
      "        Layer (type)               Output Shape         Param #\n",
      "================================================================\n",
      "            Linear-1              [-1, 100, 40]              80\n",
      "         LeakyReLU-2              [-1, 100, 40]               0\n",
      "            Linear-3               [-1, 100, 1]              41\n",
      "================================================================\n",
      "Total params: 121\n",
      "Trainable params: 121\n",
      "Non-trainable params: 0\n",
      "----------------------------------------------------------------\n",
      "Input size (MB): 0.00\n",
      "Forward/backward pass size (MB): 0.06\n",
      "Params size (MB): 0.00\n",
      "Estimated Total Size (MB): 0.06\n",
      "----------------------------------------------------------------\n",
      "Doing Iterations: 0 and Loss: 0.23471900820732117\n"
     ]
    },
    {
     "name": "stderr",
     "output_type": "stream",
     "text": [
      "<ipython-input-83-f8a58e45b641>:42: UserWarning: nn.init.xavier_uniform is now deprecated in favor of nn.init.xavier_uniform_.\n",
      "  torch.nn.init.xavier_uniform(m.weight)\n"
     ]
    },
    {
     "name": "stdout",
     "output_type": "stream",
     "text": [
      "Doing Iterations: 50 and Loss: 0.0038674066308885813\n",
      "Doing Iterations: 100 and Loss: 0.0017179547576233745\n",
      "Doing Iterations: 150 and Loss: 0.0010395834688097239\n"
     ]
    },
    {
     "data": {
      "image/png": "[encoded data removed]",
      "text/plain": [
       "<Figure size 1080x720 with 1 Axes>"
      ]
     },
     "metadata": {
      "needs_background": "light"
     },
     "output_type": "display_data"
    }
   ],
   "source": [
    "import numpy as np\n",
    "import imageio\n",
    "import torch\n",
    "import torch.nn.functional as F\n",
    "import torch.utils.data as Data\n",
    "from torch.autograd import Variable\n",
    "from torch.optim import Adam, LBFGS, SGD\n",
    "import matplotlib.pyplot as plt\n",
    "%matplotlib inline\n",
    "from torchsummary import summary\n",
    "\n",
    "\n",
    "\n",
    "torch.manual_seed(1234) \n",
    "\n",
    "### Input data\n",
    "x = torch.unsqueeze(torch.linspace(-1, 1, 100), dim=1)\n",
    "# torch.unsqueeze: Returns a new tensor \n",
    "# with a dimension of size one inserted at the specified position.\n",
    "\n",
    "y = torch.square(x)\n",
    "# Add Random Noise\n",
    "y = y + 0.1*torch.rand(y.size())\n",
    "\n",
    "\n",
    "\n",
    "# Convert x and y to tracked variables\n",
    "\n",
    "in_dim = 1\n",
    "out_dim = 1\n",
    "\n",
    "Net = torch.nn.Sequential(\n",
    "      torch.nn.Linear(in_dim, 40),\n",
    "      torch.nn.LeakyReLU(),\n",
    "      torch.nn.Linear(40, out_dim))\n",
    "\n",
    "\n",
    "summary(Net, (100, 1))\n",
    "\n",
    "# def init_weights(m):\n",
    "#     if isinstance(m, torch.nn.Linear):\n",
    "#         torch.nn.init.xavier_uniform(m.weight)\n",
    "#         m.bias.data.fill_(0.00)\n",
    "        \n",
    "# Net.apply(init_weights)\n",
    "\n",
    "# for name, params in Net.named_parameters():\n",
    "#     if params.requires_grad:\n",
    "#         print(f\"name: {name}\")\n",
    "#         print(f\"Params: {params}\")\n",
    "\n",
    "\n",
    "optimizer = torch.optim.Adam(Net.parameters(), lr = 0.01)\n",
    "loss_function = torch.nn.MSELoss()\n",
    "\n",
    "image_list = []\n",
    "Niter = 150 + 1\n",
    "\n",
    "fig, ax = plt.subplots(figsize=(15,10))\n",
    "\n",
    "for it in range(Niter):\n",
    "    y_pred = Net(x)\n",
    "    loss = loss_function(y_pred, y)\n",
    "    optimizer.zero_grad()\n",
    "    loss.backward()\n",
    "    optimizer.step()\n",
    "    if it % 50 == 0:\n",
    "        print(f\"Doing Iterations: {it} and Loss: {loss}\")\n",
    "    plt.cla()\n",
    "    ax.set_xlabel('x', fontsize=32)\n",
    "    ax.set_ylabel('y Predictied', fontsize=32)\n",
    "    ax.set_xlim(-1.5, 1.5)\n",
    "    ax.set_ylim(-0.5, 1.5)\n",
    "    ax.scatter(x_plot, y_plot, color = \"red\")\n",
    "    ax.plot(x_plot, y_pred.data.numpy(), 'k-', lw=4)\n",
    "    ax.text(-0.5, 1.3, 'It = %d,' %it, fontdict={'size': 22, 'color':  'black'})\n",
    "    ax.text(-0.1, 1.3, 'Loss = %.6f' % loss.data.numpy(),\n",
    "            fontdict={'size': 22, 'color':  'black'})\n",
    "\n",
    "    fig.canvas.draw()      \n",
    "    image = np.frombuffer(fig.canvas.tostring_rgb(), dtype='uint8')\n",
    "    image  = image.reshape(fig.canvas.get_width_height()[::-1] + (3,))\n",
    "\n",
    "    image_list.append(image)\n",
    "    \n",
    "   \n",
    "\n",
    "imageio.mimsave('./Parabolic_regression_1.gif', image_list, fps=5)\n",
    "    \n",
    "\n"
   ]
  },
  {
   "cell_type": "markdown",
   "metadata": {},
   "source": [
    "### Sin Function"
   ]
  },
  {
   "cell_type": "code",
   "execution_count": 45,
   "metadata": {},
   "outputs": [
    {
     "data": {
      "image/png": "[encoded data removed]",
      "text/plain": [
       "<Figure size 576x288 with 1 Axes>"
      ]
     },
     "metadata": {
      "needs_background": "light"
     },
     "output_type": "display_data"
    }
   ],
   "source": [
    "import numpy as np\n",
    "import imageio\n",
    "import torch\n",
    "import torch.nn.functional as F\n",
    "import torch.utils.data as Data\n",
    "from torch.autograd import Variable\n",
    "import matplotlib.pyplot as plt\n",
    "%matplotlib inline\n",
    "torch.manual_seed(1234) \n",
    "\n",
    "### Input data\n",
    "x = torch.unsqueeze(torch.linspace(-6, 6, 100), dim=1) \n",
    "# torch.unsqueeze: Returns a new tensor \n",
    "# with a dimension of size one inserted at the specified position.\n",
    "y = torch.sin(x)\n",
    "# Add Random Noise\n",
    "y = y + 0.30*torch.rand(y.size())\n",
    "\n",
    "# Plot the data\n",
    "plt.figure(figsize=(8,4))\n",
    "\n",
    "x_plot, y_plot = x.numpy(), y.numpy()\n",
    "plt.scatter(x_plot, y_plot, color=\"red\")\n",
    "plt.xlabel(\"x\")\n",
    "plt.ylabel(\"y\")\n",
    "plt.show(\"Data for Regression Analysis\")\n",
    "plt.show()\n"
   ]
  },
  {
   "cell_type": "code",
   "execution_count": 46,
   "metadata": {},
   "outputs": [
    {
     "name": "stdout",
     "output_type": "stream",
     "text": [
      "Doing Iterations: 0 and Loss: 0.8034062385559082\n",
      "Doing Iterations: 50 and Loss: 0.11373567581176758\n",
      "Doing Iterations: 100 and Loss: 0.10786443948745728\n",
      "Doing Iterations: 150 and Loss: 0.1027265340089798\n",
      "Doing Iterations: 200 and Loss: 0.09231911599636078\n",
      "Doing Iterations: 250 and Loss: 0.0758381336927414\n",
      "Doing Iterations: 300 and Loss: 0.05385994538664818\n",
      "Doing Iterations: 350 and Loss: 0.0337362065911293\n",
      "Doing Iterations: 400 and Loss: 0.019557828083634377\n",
      "Doing Iterations: 450 and Loss: 0.014799895696341991\n",
      "Doing Iterations: 500 and Loss: 0.012736027128994465\n",
      "Doing Iterations: 550 and Loss: 0.0102080674842\n",
      "Doing Iterations: 600 and Loss: 0.009226702153682709\n",
      "Doing Iterations: 650 and Loss: 0.008671664632856846\n",
      "Doing Iterations: 700 and Loss: 0.007980658672749996\n",
      "Doing Iterations: 750 and Loss: 0.007601229008287191\n",
      "Doing Iterations: 800 and Loss: 0.007699568290263414\n",
      "Doing Iterations: 850 and Loss: 0.0173762496560812\n",
      "Doing Iterations: 900 and Loss: 0.0065982164815068245\n",
      "Doing Iterations: 950 and Loss: 0.006443837657570839\n",
      "Doing Iterations: 1000 and Loss: 0.006208156235516071\n",
      "Doing Iterations: 1050 and Loss: 0.00615007383748889\n",
      "Doing Iterations: 1100 and Loss: 0.006340045481920242\n",
      "Doing Iterations: 1150 and Loss: 0.005843187682330608\n",
      "Doing Iterations: 1200 and Loss: 0.006181442644447088\n",
      "Doing Iterations: 1250 and Loss: 0.0067557478323578835\n",
      "Doing Iterations: 1300 and Loss: 0.007831340655684471\n",
      "Doing Iterations: 1350 and Loss: 0.005586026236414909\n",
      "Doing Iterations: 1400 and Loss: 0.005777559708803892\n",
      "Doing Iterations: 1450 and Loss: 0.007971156388521194\n",
      "Doing Iterations: 1500 and Loss: 0.005308262538164854\n"
     ]
    },
    {
     "data": {
      "image/png": "[encoded data removed]",
      "text/plain": [
       "<Figure size 1080x720 with 1 Axes>"
      ]
     },
     "metadata": {
      "needs_background": "light"
     },
     "output_type": "display_data"
    }
   ],
   "source": [
    "# Convert x and y to tracked variables\n",
    "x = Variable(x)\n",
    "y = Variable(y)\n",
    "\n",
    "Net = torch.nn.Sequential(\n",
    "      torch.nn.Linear(1, 100),\n",
    "      torch.nn.LeakyReLU(),\n",
    "      torch.nn.Linear(100, 1))\n",
    "\n",
    "optimizer = torch.optim.Adam(Net.parameters(), lr = 0.01)\n",
    "loss_function = torch.nn.MSELoss()\n",
    "\n",
    "image_list = []\n",
    "Niter = 1500 + 1\n",
    "\n",
    "fig, ax = plt.subplots(figsize=(15,10))\n",
    "\n",
    "for it in range(Niter):\n",
    "    y_pred = Net(x)\n",
    "    loss = loss_function(y_pred, y)  # Notice the order: NN Pred first and then actual value\n",
    "    optimizer.zero_grad()    # Zero Out the gradient\n",
    "    loss.backward()\n",
    "    optimizer.step()\n",
    "    if it % 50 == 0:\n",
    "        print(f\"Doing Iterations: {it} and Loss: {loss}\")\n",
    "    plt.cla()\n",
    "    ax.set_xlabel('x', fontsize=32)\n",
    "    ax.set_ylabel('y Predictied', fontsize=32)\n",
    "    ax.set_xlim(-6, 6)\n",
    "    ax.set_ylim(-1.8, 1.8)\n",
    "    ax.scatter(x_plot, y_plot, color = \"red\")\n",
    "    ax.plot(x_plot, y_pred.data.numpy(), 'k-', lw=4)\n",
    "    ax.text(0, 1.3, 'It = %d,' %it, fontdict={'size': 22, 'color':  'black'})\n",
    "    ax.text(2, 1.3, 'Loss = %.6f' % loss.data.numpy(),\n",
    "            fontdict={'size': 22, 'color':  'black'})\n",
    "\n",
    "    fig.canvas.draw()      \n",
    "    image = np.frombuffer(fig.canvas.tostring_rgb(), dtype='uint8')\n",
    "    image  = image.reshape(fig.canvas.get_width_height()[::-1] + (3,))\n",
    "\n",
    "    image_list.append(image)\n",
    "    \n",
    "   \n",
    "\n",
    "imageio.mimsave('./Sin_Regression_2.gif', image_list, fps=20)"
   ]
  },
  {
   "cell_type": "code",
   "execution_count": 7,
   "metadata": {},
   "outputs": [
    {
     "name": "stdout",
     "output_type": "stream",
     "text": [
      "Collecting deepxde\n",
      "  Downloading DeepXDE-0.14.1-py3-none-any.whl (117 kB)\n",
      "\u001b[K     |████████████████████████████████| 117 kB 5.5 MB/s eta 0:00:01\n",
      "\u001b[?25hRequirement already satisfied: scipy in /Users/raj/opt/anaconda3/lib/python3.8/site-packages (from deepxde) (1.6.2)\n",
      "Requirement already satisfied: matplotlib in /Users/raj/opt/anaconda3/lib/python3.8/site-packages (from deepxde) (3.3.4)\n",
      "Requirement already satisfied: numpy in /Users/raj/opt/anaconda3/lib/python3.8/site-packages (from deepxde) (1.21.5)\n",
      "Requirement already satisfied: scikit-learn in /Users/raj/opt/anaconda3/lib/python3.8/site-packages (from deepxde) (0.24.1)\n",
      "Collecting scikit-optimize\n",
      "  Downloading scikit_optimize-0.9.0-py2.py3-none-any.whl (100 kB)\n",
      "\u001b[K     |████████████████████████████████| 100 kB 12.6 MB/s ta 0:00:01\n",
      "\u001b[?25hRequirement already satisfied: cycler>=0.10 in /Users/raj/opt/anaconda3/lib/python3.8/site-packages (from matplotlib->deepxde) (0.10.0)\n",
      "Requirement already satisfied: pyparsing!=2.0.4,!=2.1.2,!=2.1.6,>=2.0.3 in /Users/raj/opt/anaconda3/lib/python3.8/site-packages (from matplotlib->deepxde) (2.4.7)\n",
      "Requirement already satisfied: pillow>=6.2.0 in /Users/raj/opt/anaconda3/lib/python3.8/site-packages (from matplotlib->deepxde) (8.2.0)\n",
      "Requirement already satisfied: python-dateutil>=2.1 in /Users/raj/opt/anaconda3/lib/python3.8/site-packages (from matplotlib->deepxde) (2.8.1)\n",
      "Requirement already satisfied: kiwisolver>=1.0.1 in /Users/raj/opt/anaconda3/lib/python3.8/site-packages (from matplotlib->deepxde) (1.3.1)\n",
      "Requirement already satisfied: six in /Users/raj/opt/anaconda3/lib/python3.8/site-packages (from cycler>=0.10->matplotlib->deepxde) (1.15.0)\n",
      "Requirement already satisfied: threadpoolctl>=2.0.0 in /Users/raj/opt/anaconda3/lib/python3.8/site-packages (from scikit-learn->deepxde) (2.1.0)\n",
      "Requirement already satisfied: joblib>=0.11 in /Users/raj/opt/anaconda3/lib/python3.8/site-packages (from scikit-learn->deepxde) (1.0.1)\n",
      "Collecting pyaml>=16.9\n",
      "  Downloading pyaml-21.10.1-py2.py3-none-any.whl (24 kB)\n",
      "Requirement already satisfied: PyYAML in /Users/raj/opt/anaconda3/lib/python3.8/site-packages (from pyaml>=16.9->scikit-optimize->deepxde) (5.4.1)\n",
      "Installing collected packages: pyaml, scikit-optimize, deepxde\n",
      "Successfully installed deepxde-0.14.1 pyaml-21.10.1 scikit-optimize-0.9.0\n"
     ]
    }
   ],
   "source": [
    "!pip install deepxde"
   ]
  },
  {
   "cell_type": "markdown",
   "metadata": {},
   "source": [
    "### Customizing Function"
   ]
  },
  {
   "cell_type": "code",
   "execution_count": 20,
   "metadata": {},
   "outputs": [],
   "source": [
    "import torch\n",
    "import torch.nn as nn \n",
    "from torch.nn.parameter import Parameter \n",
    "import numpy as np\n",
    "import matplotlib.pyplot as plt\n",
    "\n",
    "'''\n",
    "clu = x * sigmoid(x) = (1/ (1 + exp(-x)))\n",
    "'''\n",
    "\n",
    "\n",
    "def caf(x):\n",
    "    return x * (1.0/(1.0 + torch.exp(-x)))"
   ]
  },
  {
   "cell_type": "code",
   "execution_count": 24,
   "metadata": {},
   "outputs": [
    {
     "data": {
      "text/plain": [
       "[<matplotlib.lines.Line2D at 0x7ff018352e80>]"
      ]
     },
     "execution_count": 24,
     "metadata": {},
     "output_type": "execute_result"
    },
    {
     "data": {
      "image/png": "[encoded data removed]",
      "text/plain": [
       "<Figure size 432x288 with 1 Axes>"
      ]
     },
     "metadata": {
      "needs_background": "light"
     },
     "output_type": "display_data"
    }
   ],
   "source": [
    "x = torch.linspace(-10, 10, 100).view((-1, 1))\n",
    "y = caf(x)\n",
    "plt.plot(x, y, \"-r\")"
   ]
  },
  {
   "cell_type": "code",
   "execution_count": 25,
   "metadata": {},
   "outputs": [
    {
     "data": {
      "text/plain": [
       "[<matplotlib.lines.Line2D at 0x7ff018583a60>]"
      ]
     },
     "execution_count": 25,
     "metadata": {},
     "output_type": "execute_result"
    },
    {
     "data": {
      "image/png": "[encoded data removed]",
      "text/plain": [
       "<Figure size 432x288 with 1 Axes>"
      ]
     },
     "metadata": {
      "needs_background": "light"
     },
     "output_type": "display_data"
    }
   ],
   "source": [
    "class CAF(nn.Module):\n",
    "    def __init__(self):\n",
    "        super().__init__()       \n",
    "    def forward(self, x):\n",
    "        return caf(x)\n",
    "    \n",
    "custom_af = CAF()\n",
    "\n",
    "Net = torch.nn.Sequential(\n",
    "     CAF()\n",
    "     )\n",
    "\n",
    "y = Net(x)\n",
    "\n",
    "plt.plot(y.detach().numpy())"
   ]
  },
  {
   "cell_type": "code",
   "execution_count": 26,
   "metadata": {},
   "outputs": [
    {
     "name": "stdout",
     "output_type": "stream",
     "text": [
      "('Linear-1.weight', Parameter containing:\n",
      "tensor([[ 0.9844],\n",
      "        [ 0.9351],\n",
      "        [-0.0845],\n",
      "        [ 0.6605],\n",
      "        [ 0.2004],\n",
      "        [-0.6715],\n",
      "        [-0.7584],\n",
      "        [ 0.0044],\n",
      "        [ 0.3836],\n",
      "        [ 0.2686],\n",
      "        [ 0.8805],\n",
      "        [-0.3431],\n",
      "        [ 0.4587],\n",
      "        [ 0.1602],\n",
      "        [-0.7957],\n",
      "        [-0.4265],\n",
      "        [-0.2455],\n",
      "        [-0.9389],\n",
      "        [-0.2003],\n",
      "        [-0.5251],\n",
      "        [ 0.6674],\n",
      "        [-0.8099],\n",
      "        [-0.3822],\n",
      "        [ 0.5753],\n",
      "        [-0.2901],\n",
      "        [ 0.5563],\n",
      "        [ 0.9363],\n",
      "        [ 0.3973],\n",
      "        [-0.5835],\n",
      "        [ 0.1476],\n",
      "        [-0.9493],\n",
      "        [-0.4277],\n",
      "        [-0.3161],\n",
      "        [ 0.8839],\n",
      "        [ 0.7439],\n",
      "        [ 0.0787],\n",
      "        [-0.2168],\n",
      "        [ 0.0819],\n",
      "        [ 0.2681],\n",
      "        [-0.1590],\n",
      "        [ 0.8542],\n",
      "        [-0.2949],\n",
      "        [ 0.4733],\n",
      "        [ 0.3656],\n",
      "        [-0.3438],\n",
      "        [-0.9286],\n",
      "        [-0.1681],\n",
      "        [ 0.5405],\n",
      "        [-0.4268],\n",
      "        [ 0.2118],\n",
      "        [-0.6267],\n",
      "        [ 0.8650],\n",
      "        [ 0.4860],\n",
      "        [ 0.5587],\n",
      "        [-0.7464],\n",
      "        [-0.7939],\n",
      "        [ 0.5252],\n",
      "        [ 0.2252],\n",
      "        [ 0.9987],\n",
      "        [ 0.5089],\n",
      "        [-0.3735],\n",
      "        [-0.8653],\n",
      "        [-0.5575],\n",
      "        [-0.3215],\n",
      "        [ 0.9465],\n",
      "        [-0.2389],\n",
      "        [ 0.8579],\n",
      "        [ 0.4189],\n",
      "        [-0.7090],\n",
      "        [-0.1354],\n",
      "        [-0.5830],\n",
      "        [-0.4573],\n",
      "        [-0.5353],\n",
      "        [ 0.7668],\n",
      "        [-0.9576],\n",
      "        [-0.9951],\n",
      "        [-0.6544],\n",
      "        [-0.2638],\n",
      "        [-0.1392],\n",
      "        [-0.7716],\n",
      "        [ 0.7784],\n",
      "        [ 0.3992],\n",
      "        [ 0.1288],\n",
      "        [-0.3030],\n",
      "        [ 0.6224],\n",
      "        [ 0.2595],\n",
      "        [ 0.5294],\n",
      "        [-0.4822],\n",
      "        [-0.6309],\n",
      "        [ 0.8667],\n",
      "        [ 0.4458],\n",
      "        [ 0.6522],\n",
      "        [ 0.3753],\n",
      "        [-0.2470],\n",
      "        [-0.6075],\n",
      "        [-0.8550],\n",
      "        [ 0.1744],\n",
      "        [-0.5744],\n",
      "        [-0.1325],\n",
      "        [-0.6263]], requires_grad=True))\n",
      "('Linear-1.bias', Parameter containing:\n",
      "tensor([ 0.8937,  0.2932, -0.3279,  0.6122, -0.6369,  0.6313, -0.1088,  0.2088,\n",
      "        -0.3175,  0.2408, -0.1601, -0.5305,  0.3808,  0.5689, -0.3261, -0.9973,\n",
      "         0.9852, -0.8929, -0.9020, -0.5143, -0.7757, -0.0972, -0.1990,  0.7725,\n",
      "         0.1347,  0.4685,  0.6571, -0.6869,  0.6087,  0.0359,  0.0798, -0.8835,\n",
      "        -0.8081, -0.4337,  0.7201,  0.3609,  0.1026, -0.2963,  0.1898, -0.9797,\n",
      "        -0.1785, -0.2586, -0.3820, -0.0400,  0.3577, -0.5699,  0.4456, -0.3738,\n",
      "         0.3293,  0.0236,  0.7333,  0.5505,  0.4184,  0.5827,  0.4119, -0.6382,\n",
      "        -0.5253,  0.2342, -0.9240, -0.2473,  0.0584,  0.6439, -0.4191,  0.7194,\n",
      "        -0.0559,  0.8242,  0.4816,  0.4477,  0.2229, -0.8476,  0.5849,  0.1550,\n",
      "        -0.1487, -0.2550, -0.4392, -0.5180, -0.4672,  0.4154,  0.1901,  0.4160,\n",
      "         0.7286,  0.6242,  0.1358, -0.8628,  0.9660, -0.6008, -0.7968,  0.6829,\n",
      "        -0.1734, -0.2624,  0.4815, -0.6974, -0.0641, -0.0066, -0.3019,  0.2581,\n",
      "         0.7606,  0.9254, -0.9465, -0.7202], requires_grad=True))\n",
      "('Customized AF.a', Parameter containing:\n",
      "tensor([0.1000], requires_grad=True))\n",
      "('Linear-2.weight', Parameter containing:\n",
      "tensor([[-0.0885,  0.0184,  0.0448,  0.0707,  0.0836, -0.0185, -0.0104,  0.0550,\n",
      "         -0.0665, -0.0787,  0.0948, -0.0244, -0.0834,  0.0150, -0.0148,  0.0327,\n",
      "         -0.0372,  0.0860, -0.0813, -0.0464, -0.0084,  0.0901,  0.0218, -0.0078,\n",
      "          0.0677, -0.0349,  0.0462, -0.0594,  0.0913, -0.0202,  0.0893,  0.0954,\n",
      "          0.0904, -0.0951, -0.0104,  0.0967,  0.0794, -0.0605, -0.0032,  0.0738,\n",
      "          0.0986,  0.0644, -0.0337,  0.0896, -0.0401, -0.0214, -0.0967,  0.0353,\n",
      "         -0.0218,  0.0123, -0.0425, -0.0685,  0.0388, -0.0619, -0.0241, -0.0442,\n",
      "          0.0764,  0.0437, -0.0578,  0.0553,  0.0208, -0.0588,  0.0576, -0.0080,\n",
      "         -0.0124, -0.0832,  0.0490,  0.0516,  0.0348, -0.0209,  0.0697, -0.0127,\n",
      "          0.0181, -0.0378,  0.0970, -0.0186,  0.0414, -0.0179,  0.0926,  0.0336,\n",
      "          0.0622,  0.0292, -0.0189, -0.0023,  0.0757, -0.0753, -0.0682, -0.0334,\n",
      "         -0.0749, -0.0154,  0.0352,  0.0913,  0.0631,  0.0543,  0.0498, -0.0570,\n",
      "          0.0455,  0.0525, -0.0579, -0.0030]], requires_grad=True))\n",
      "('Linear-2.bias', Parameter containing:\n",
      "tensor([0.0738], requires_grad=True))\n"
     ]
    },
    {
     "data": {
      "text/plain": [
       "[<matplotlib.lines.Line2D at 0x7ff0185d79a0>]"
      ]
     },
     "execution_count": 26,
     "metadata": {},
     "output_type": "execute_result"
    },
    {
     "data": {
      "image/png": "[encoded data removed]",
      "text/plain": [
       "<Figure size 432x288 with 1 Axes>"
      ]
     },
     "metadata": {
      "needs_background": "light"
     },
     "output_type": "display_data"
    }
   ],
   "source": [
    "from torchsummary import summary\n",
    "\n",
    "\n",
    "class CAF(nn.Module):\n",
    "    def __init__(self):\n",
    "        super().__init__()\n",
    "        self.a = nn.Parameter(torch.Tensor([0.1]), requires_grad=True)\n",
    "        self.N = 10.0\n",
    "    \n",
    "    def forward(self, x):\n",
    "        return  self.a * caf(x)\n",
    "    \n",
    "custom_af = CAF()\n",
    "\n",
    "Net = torch.nn.Sequential()\n",
    "Net.add_module(\"Linear-1\", torch.nn.Linear(1, 100))\n",
    "Net.add_module(\"Customized AF\",  CAF())\n",
    "Net.add_module(\"Linear-2\",   torch.nn.Linear(100, 1))\n",
    "\n",
    "\n",
    "\n",
    "y = Net(x)\n",
    "\n",
    "for parameter in Net.named_parameters():\n",
    "    print(parameter)\n",
    "\n",
    "plt.plot(y.detach().numpy())"
   ]
  },
  {
   "cell_type": "code",
   "execution_count": 27,
   "metadata": {},
   "outputs": [
    {
     "name": "stdout",
     "output_type": "stream",
     "text": [
      "----------------------------------------------------------------\n",
      "        Layer (type)               Output Shape         Param #\n",
      "================================================================\n",
      "            Linear-1             [-1, 100, 100]             200\n",
      "               CAF-2             [-1, 100, 100]               0\n",
      "            Linear-3               [-1, 100, 1]             101\n",
      "================================================================\n",
      "Total params: 301\n",
      "Trainable params: 301\n",
      "Non-trainable params: 0\n",
      "----------------------------------------------------------------\n",
      "Input size (MB): 0.00\n",
      "Forward/backward pass size (MB): 0.15\n",
      "Params size (MB): 0.00\n",
      "Estimated Total Size (MB): 0.15\n",
      "----------------------------------------------------------------\n"
     ]
    }
   ],
   "source": [
    "summary(Net, (100,1))"
   ]
  },
  {
   "cell_type": "code",
   "execution_count": null,
   "metadata": {},
   "outputs": [],
   "source": []
  }
 ],
 "metadata": {
  "kernelspec": {
   "display_name": "Python 3",
   "language": "python",
   "name": "python3"
  },
  "language_info": {
   "codemirror_mode": {
    "name": "ipython",
    "version": 3
   },
   "file_extension": ".py",
   "mimetype": "text/x-python",
   "name": "python",
   "nbconvert_exporter": "python",
   "pygments_lexer": "ipython3",
   "version": "3.8.8"
  }
 },
 "nbformat": 4,
 "nbformat_minor": 4
}
